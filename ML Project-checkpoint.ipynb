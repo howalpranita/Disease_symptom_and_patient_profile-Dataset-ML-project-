{
 "cells": [
  {
   "cell_type": "markdown",
   "id": "619e1cf9",
   "metadata": {},
   "source": [
    "## ML projects\n",
    "\n",
    "### Build Power BI dashboard with given dataset\n",
    "\n",
    "### Perform below task on Disease\n",
    "\n",
    "- Load the dataset\n",
    "\n",
    "- Preprocessing and EDA: Missing Values handling, Feature Engineering\n",
    "\n",
    "       Plot atleast 5 graph for the dataset and EDA\n",
    "       Perfrom outlier handling like log normalization, and Dropping rows with outliers\n",
    "       Perform different pre processing mathods on dataset \n",
    "   \n",
    "- Model Training, Hyperparameter Tuning and Evaluation\n",
    "\n",
    "\n",
    "\n",
    "- Build Atleast 3 ML model And try to find best model to get atleast 75+%\n",
    "- Get different evaluation values like f1_score, accuracy_score, recall_score\n",
    "- Plot Confusion Metrix\n",
    "\n",
    "- Conclusion: Comparison of Estimators"
   ]
  },
  {
   "cell_type": "code",
   "execution_count": null,
   "id": "b8c4e22e",
   "metadata": {},
   "outputs": [],
   "source": []
  }
 ],
 "metadata": {
  "kernelspec": {
   "display_name": "Python 3 (ipykernel)",
   "language": "python",
   "name": "python3"
  },
  "language_info": {
   "codemirror_mode": {
    "name": "ipython",
    "version": 3
   },
   "file_extension": ".py",
   "mimetype": "text/x-python",
   "name": "python",
   "nbconvert_exporter": "python",
   "pygments_lexer": "ipython3",
   "version": "3.11.4"
  }
 },
 "nbformat": 4,
 "nbformat_minor": 5
}
